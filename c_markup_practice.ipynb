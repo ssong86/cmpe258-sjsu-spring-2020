{
  "nbformat": 4,
  "nbformat_minor": 0,
  "metadata": {
    "colab": {
      "name": "c-markup-practice.ipynb",
      "provenance": [],
      "collapsed_sections": [],
      "toc_visible": true,
      "authorship_tag": "ABX9TyOxCHs/mVVFYS499gdbAcaw"
    },
    "kernelspec": {
      "name": "python3",
      "display_name": "Python 3"
    },
    "accelerator": "GPU"
  },
  "cells": [
    {
      "cell_type": "markdown",
      "metadata": {
        "id": "iNlWlaHBdNls",
        "colab_type": "text"
      },
      "source": [
        "**Mark up Practice Notebook:** This practice notebook of markup syntax\n",
        "\n",
        "**Student Name:** Sangwon Song\n",
        "\n",
        "**SJSU ID:** 013748306\n",
        "\n",
        "**Link I followed:** https://colab.research.google.com/github/fastai/course-v3/blob/master/nbs/dl1/00_notebook_tutorial.ipynb?authuser=1#scrollTo=pzIXNxM2NBtN\n",
        "\n",
        "**Notebook Link on Public:** https://colab.research.google.com/drive/1Tpb3nNFiL7GLaTb3mO9Y76BoKb0yDAj2"
      ]
    },
    {
      "cell_type": "markdown",
      "metadata": {
        "id": "5YTkUkeilMRF",
        "colab_type": "text"
      },
      "source": [
        "# Whole Session Collapsible"
      ]
    },
    {
      "cell_type": "markdown",
      "metadata": {
        "id": "CozpHbcblWGw",
        "colab_type": "text"
      },
      "source": [
        "This is the collapsible session (the largest session) for markup"
      ]
    },
    {
      "cell_type": "markdown",
      "metadata": {
        "id": "A73edanvloNt",
        "colab_type": "text"
      },
      "source": [
        "## Subsession"
      ]
    },
    {
      "cell_type": "markdown",
      "metadata": {
        "id": "ypxXwhs4lrWQ",
        "colab_type": "text"
      },
      "source": [
        "### Style texts"
      ]
    },
    {
      "cell_type": "markdown",
      "metadata": {
        "id": "OmlLWdkthhm7",
        "colab_type": "text"
      },
      "source": [
        "1. **bold text** - Let's bold text with ** signs\n",
        "2. *italicized text* - Let's italicize text with * signs\n",
        "3. `inline` - Let's make a inline text with ` signs\n",
        "4. > blockquote: Let's write a block quote with > sign\n",
        "5. [Links](https://one.sjsu.edu/): Let's make a link with [] signs and () with the link address.\n"
      ]
    },
    {
      "cell_type": "markdown",
      "metadata": {
        "id": "ehVRpwp80JvX",
        "colab_type": "text"
      },
      "source": [
        "### Headings"
      ]
    },
    {
      "cell_type": "markdown",
      "metadata": {
        "id": "yRSQ7F470Ma8",
        "colab_type": "text"
      },
      "source": [
        "Headings are designed by # signs. The levels of headings are decided by the number of # signs. For example, '#' is level one (toppest), '##' is level two, and so on."
      ]
    },
    {
      "cell_type": "markdown",
      "metadata": {
        "id": "YIhuI_T30fU9",
        "colab_type": "text"
      },
      "source": [
        "### Lists"
      ]
    },
    {
      "cell_type": "markdown",
      "metadata": {
        "id": "3TUybF130g3j",
        "colab_type": "text"
      },
      "source": [
        "Ordered list:\n",
        "1. Order 1\n",
        "  2. Order 1.1\n",
        "3. Order 2\n"
      ]
    },
    {
      "cell_type": "markdown",
      "metadata": {
        "id": "oLcmUWII0utl",
        "colab_type": "text"
      },
      "source": [
        "Unordered list\n",
        "* List1\n",
        "* List2\n",
        "* List3"
      ]
    },
    {
      "cell_type": "markdown",
      "metadata": {
        "id": "krFE6zsp0331",
        "colab_type": "text"
      },
      "source": [
        "Task list\n",
        "- [x] Todo List\n",
        "  - [ ] Study\n",
        "  - [ ] Workout\n",
        "  - [ ] Sleep Well "
      ]
    }
  ]
}